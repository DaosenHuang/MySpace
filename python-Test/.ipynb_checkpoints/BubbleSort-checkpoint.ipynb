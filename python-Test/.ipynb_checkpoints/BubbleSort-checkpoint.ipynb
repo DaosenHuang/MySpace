{
 "cells": [
  {
   "cell_type": "code",
   "execution_count": 8,
   "metadata": {},
   "outputs": [
    {
     "name": "stdout",
     "output_type": "stream",
     "text": [
      "请输入一个整数：1\n",
      "请输入一个整数：2\n",
      "请输入一个整数：3\n",
      "请输入一个整数：4\n",
      "请输入一个整数：5\n",
      "请输入一个整数：6\n",
      "请输入一个整数：7\n",
      "请输入一个整数：\n",
      "原始数组: [1, 2, 3, 4, 5, 6, 7]\n"
     ]
    }
   ],
   "source": [
    "arr = []\n",
    "x = input(\"请输入一个整数：\")\n",
    "while x != '':\n",
    "    arr.append(eval(x))\n",
    "    x = input(\"请输入一个整数：\")\n",
    " \n",
    "print(\"原始数组:\",arr)\n",
    "\n",
    "    "
   ]
  },
  {
   "cell_type": "code",
   "execution_count": 9,
   "metadata": {},
   "outputs": [
    {
     "name": "stdout",
     "output_type": "stream",
     "text": [
      "[7, 6, 5, 4, 3, 2, 1]\n"
     ]
    }
   ],
   "source": [
    "for i in range(len(arr)-1):\n",
    "    for j in range(len(arr)-1-i):\n",
    "        if arr[j]<arr[j+1]:\n",
    "            arr[j],arr[j+1] = arr[j+1],arr[j]\n",
    "print(arr)"
   ]
  },
  {
   "cell_type": "code",
   "execution_count": null,
   "metadata": {},
   "outputs": [],
   "source": []
  },
  {
   "cell_type": "code",
   "execution_count": null,
   "metadata": {},
   "outputs": [],
   "source": []
  },
  {
   "cell_type": "code",
   "execution_count": null,
   "metadata": {},
   "outputs": [],
   "source": []
  }
 ],
 "metadata": {
  "kernelspec": {
   "display_name": "Python 3",
   "language": "python",
   "name": "python3"
  },
  "language_info": {
   "codemirror_mode": {
    "name": "ipython",
    "version": 3
   },
   "file_extension": ".py",
   "mimetype": "text/x-python",
   "name": "python",
   "nbconvert_exporter": "python",
   "pygments_lexer": "ipython3",
   "version": "3.6.7"
  }
 },
 "nbformat": 4,
 "nbformat_minor": 4
}
